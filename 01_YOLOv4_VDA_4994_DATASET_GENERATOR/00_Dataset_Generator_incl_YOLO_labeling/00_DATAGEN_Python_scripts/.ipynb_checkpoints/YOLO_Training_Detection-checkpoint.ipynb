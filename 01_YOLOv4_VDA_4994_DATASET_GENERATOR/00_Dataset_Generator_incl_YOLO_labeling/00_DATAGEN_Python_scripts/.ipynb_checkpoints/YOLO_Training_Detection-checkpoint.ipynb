{
 "cells": [
  {
   "cell_type": "code",
   "execution_count": 3,
   "metadata": {},
   "outputs": [],
   "source": [
    "\"\"\" CHOOOOSE YOUUUUUR YOLO SETTTTINGS\"\"\"\n",
    "JUST_TRAINING = 0  # 0 for no , 1 for yes\n",
    "YOLO_major_version = \"v4\" #\"v4\"\n",
    "YOLO_minor_version = 416 # defines yolo size all multiples of 32\n",
    "\n",
    "number_of_custom_training_classes = 64 # or 1 or more\n",
    "filename_dataset = \"Dataset_0\"\n",
    "filename_cfg = \"yolov4-cstm.cfg\"        # configurations filename\n",
    "#filename_test_cfg = \"yolov4_test_custom_dataset.cfg\"   # configurations filename\n",
    "\n",
    "train = 1 ## 1 is training, 0 (else) is testing\n",
    "\n",
    "path_to_local_dataset = r\"\"\n",
    "\n",
    "dataset_size      = 1000        # number of images in your dataset\n",
    "datasets_folder   = \"yolov4\"   # leave or refractor all\n",
    "filename_dataset  = \"obj.zip\"  # leave or refractor all\n",
    "foldername_trainingset = \"obj\"\n",
    "filename_testset  = \"test.zip\" # leave or refractor all\n",
    "foldername_testset = \"test\"\n",
    "\n",
    "\n",
    "#### test OR train (subdivisions = 1 for test, subdivisions = 16 for test)\n",
    "if train == 1:\n",
    "  subdivisions = 16\n",
    "else:\n",
    "  subdivisions = 1\n",
    "\n",
    "############\n",
    "import os\n",
    "from pathlib import Path, PosixPath, PurePath, PureWindowsPath, PurePosixPath\n",
    "import shutil\n",
    "import glob\n"
   ]
  },
  {
   "cell_type": "code",
   "execution_count": 2,
   "metadata": {
    "collapsed": false,
    "jupyter": {
     "outputs_hidden": false
    },
    "pycharm": {
     "name": "#%%\n"
    }
   },
   "outputs": [
    {
     "ename": "ModuleNotFoundError",
     "evalue": "No module named 'google.colab'",
     "output_type": "error",
     "traceback": [
      "\u001b[1;31m---------------------------------------------------------------------------\u001b[0m",
      "\u001b[1;31mModuleNotFoundError\u001b[0m                       Traceback (most recent call last)",
      "\u001b[1;32m<ipython-input-2-dc1b230a4267>\u001b[0m in \u001b[0;36m<module>\u001b[1;34m\u001b[0m\n\u001b[0;32m      1\u001b[0m \u001b[1;31m### MOUNT Google Drive\u001b[0m\u001b[1;33m\u001b[0m\u001b[1;33m\u001b[0m\u001b[1;33m\u001b[0m\u001b[0m\n\u001b[1;32m----> 2\u001b[1;33m \u001b[1;32mfrom\u001b[0m \u001b[0mgoogle\u001b[0m\u001b[1;33m.\u001b[0m\u001b[0mcolab\u001b[0m \u001b[1;32mimport\u001b[0m \u001b[0mdrive\u001b[0m\u001b[1;33m\u001b[0m\u001b[1;33m\u001b[0m\u001b[0m\n\u001b[0m\u001b[0;32m      3\u001b[0m \u001b[0mdrive\u001b[0m\u001b[1;33m.\u001b[0m\u001b[0mmount\u001b[0m\u001b[1;33m(\u001b[0m\u001b[1;34m'/content/gdrive'\u001b[0m\u001b[1;33m,\u001b[0m\u001b[0mforce_remount\u001b[0m\u001b[1;33m=\u001b[0m\u001b[1;32mTrue\u001b[0m\u001b[1;33m)\u001b[0m\u001b[1;33m\u001b[0m\u001b[1;33m\u001b[0m\u001b[0m\n\u001b[0;32m      4\u001b[0m \u001b[1;31m# this creates a symbolic link so that now the path /content/gdrive/My\\ Drive/ is equal to /mydrive\u001b[0m\u001b[1;33m\u001b[0m\u001b[1;33m\u001b[0m\u001b[1;33m\u001b[0m\u001b[0m\n\u001b[0;32m      5\u001b[0m \u001b[0mget_ipython\u001b[0m\u001b[1;33m(\u001b[0m\u001b[1;33m)\u001b[0m\u001b[1;33m.\u001b[0m\u001b[0msystem\u001b[0m\u001b[1;33m(\u001b[0m\u001b[1;34m'ln -s /content/gdrive/My\\\\ Drive/ /mydrive'\u001b[0m\u001b[1;33m)\u001b[0m\u001b[1;33m\u001b[0m\u001b[1;33m\u001b[0m\u001b[0m\n",
      "\u001b[1;31mModuleNotFoundError\u001b[0m: No module named 'google.colab'"
     ]
    }
   ],
   "source": [
    "### MOUNT Google Drive\n",
    "from google.colab import drive\n",
    "drive.mount('/content/gdrive',force_remount=True)\n",
    "# this creates a symbolic link so that now the path /content/gdrive/My\\ Drive/ is equal to /mydrive\n",
    "!ln -s /content/gdrive/My\\ Drive/ /mydrive\n",
    "!ls /mydrive\n"
   ]
  },
  {
   "cell_type": "code",
   "execution_count": 5,
   "metadata": {
    "collapsed": false,
    "jupyter": {
     "outputs_hidden": false
    },
    "pycharm": {
     "name": "#%%\n"
    }
   },
   "outputs": [
    {
     "ename": "NameError",
     "evalue": "name 'dataset_size' is not defined",
     "output_type": "error",
     "traceback": [
      "\u001b[1;31m---------------------------------------------------------------------------\u001b[0m",
      "\u001b[1;31mNameError\u001b[0m                                 Traceback (most recent call last)",
      "\u001b[1;32m<ipython-input-5-cbd97ba3add5>\u001b[0m in \u001b[0;36m<module>\u001b[1;34m\u001b[0m\n\u001b[0;32m     29\u001b[0m   \u001b[0mfiles\u001b[0m\u001b[1;33m.\u001b[0m\u001b[0mdownload\u001b[0m\u001b[1;33m(\u001b[0m\u001b[0mpath\u001b[0m\u001b[1;33m)\u001b[0m\u001b[1;33m\u001b[0m\u001b[1;33m\u001b[0m\u001b[0m\n\u001b[0;32m     30\u001b[0m \u001b[1;31m## copy dataset from Google Drive folder into contents folder of Colab\u001b[0m\u001b[1;33m\u001b[0m\u001b[1;33m\u001b[0m\u001b[1;33m\u001b[0m\u001b[0m\n\u001b[1;32m---> 31\u001b[1;33m \u001b[1;32mif\u001b[0m \u001b[0mdataset_size\u001b[0m \u001b[1;33m<\u001b[0m \u001b[1;36m500\u001b[0m\u001b[1;33m:\u001b[0m\u001b[1;33m\u001b[0m\u001b[1;33m\u001b[0m\u001b[0m\n\u001b[0m\u001b[0;32m     32\u001b[0m   \u001b[1;32mfrom\u001b[0m \u001b[0mgoogle\u001b[0m\u001b[1;33m.\u001b[0m\u001b[0mcolab\u001b[0m \u001b[1;32mimport\u001b[0m \u001b[0mfiles\u001b[0m\u001b[1;33m\u001b[0m\u001b[1;33m\u001b[0m\u001b[0m\n\u001b[0;32m     33\u001b[0m   \u001b[0muploaded\u001b[0m \u001b[1;33m=\u001b[0m \u001b[0mfiles\u001b[0m\u001b[1;33m.\u001b[0m\u001b[0mupload\u001b[0m\u001b[1;33m(\u001b[0m\u001b[1;33m)\u001b[0m\u001b[1;33m\u001b[0m\u001b[1;33m\u001b[0m\u001b[0m\n",
      "\u001b[1;31mNameError\u001b[0m: name 'dataset_size' is not defined"
     ]
    }
   ],
   "source": [
    "# define helper functions\n",
    "def imShow(path):\n",
    "  import cv2\n",
    "  import matplotlib.pyplot as plt\n",
    "  %matplotlib inline\n",
    "\n",
    "  image = cv2.imread(path)\n",
    "  height, width = image.shape[:2]\n",
    "  resized_image = cv2.resize(image,(3*width, 3*height), interpolation = cv2.INTER_CUBIC)\n",
    "\n",
    "  fig = plt.gcf()\n",
    "  fig.set_size_inches(18, 10)\n",
    "  plt.axis(\"off\")\n",
    "  plt.imshow(cv2.cvtColor(resized_image, cv2.COLOR_BGR2RGB))\n",
    "  plt.show()\n",
    "\n",
    "# use this to upload files\n",
    "def upload():\n",
    "  from google.colab import files\n",
    "  uploaded = files.upload()\n",
    "  for name, data in uploaded.items():\n",
    "    with open(name, 'wb') as f:\n",
    "      f.write(data)\n",
    "      print ('saved file', name)\n",
    "\n",
    "# use this to download a file\n",
    "def download(path):\n",
    "  from google.colab import files\n",
    "  files.download(path)\n",
    "## copy dataset from Google Drive folder into contents folder of Colab\n",
    "if dataset_size < 500:\n",
    "  from google.colab import files\n",
    "  uploaded = files.upload()\n",
    "else:\n",
    "  print(\"Dataset to big for automatic upload \\n ====> Upload your zipfile manually into main GoogleDrive Folder\")\n",
    "  shutil.copy2('/mydrive/yolov4/{}'.format(filename_dataset), '/content/{}'.format(filename_dataset))\n",
    "  shutil.copy2('/mydrive/yolov4/{}'.format(filename_testset), '/content/{}'.format(filename_testset))\n"
   ]
  },
  {
   "cell_type": "code",
   "execution_count": 6,
   "metadata": {
    "collapsed": false,
    "jupyter": {
     "outputs_hidden": false
    },
    "pycharm": {
     "name": "#%%\n"
    }
   },
   "outputs": [
    {
     "ename": "NameError",
     "evalue": "name 'os' is not defined",
     "output_type": "error",
     "traceback": [
      "\u001b[1;31m---------------------------------------------------------------------------\u001b[0m",
      "\u001b[1;31mNameError\u001b[0m                                 Traceback (most recent call last)",
      "\u001b[1;32m<ipython-input-6-0cc3a68dc9f8>\u001b[0m in \u001b[0;36m<module>\u001b[1;34m\u001b[0m\n\u001b[0;32m      1\u001b[0m \u001b[1;31m# automatic creation of helper folder yolo + version if not exists\u001b[0m\u001b[1;33m\u001b[0m\u001b[1;33m\u001b[0m\u001b[1;33m\u001b[0m\u001b[0m\n\u001b[1;32m----> 2\u001b[1;33m \u001b[1;32mif\u001b[0m \u001b[1;32mnot\u001b[0m \u001b[0mos\u001b[0m\u001b[1;33m.\u001b[0m\u001b[0mpath\u001b[0m\u001b[1;33m.\u001b[0m\u001b[0mexists\u001b[0m\u001b[1;33m(\u001b[0m\u001b[1;34m\"/mydrive/yolo\"\u001b[0m \u001b[1;33m+\u001b[0m \u001b[1;34m\"{}\"\u001b[0m\u001b[1;33m.\u001b[0m\u001b[0mformat\u001b[0m\u001b[1;33m(\u001b[0m\u001b[0mYOLO_major_version\u001b[0m\u001b[1;33m)\u001b[0m\u001b[1;33m)\u001b[0m\u001b[1;33m:\u001b[0m\u001b[1;33m\u001b[0m\u001b[1;33m\u001b[0m\u001b[0m\n\u001b[0m\u001b[0;32m      3\u001b[0m     \u001b[0mos\u001b[0m\u001b[1;33m.\u001b[0m\u001b[0mmakedirs\u001b[0m\u001b[1;33m(\u001b[0m\u001b[1;34m\"/mydrive/yolo\"\u001b[0m \u001b[1;33m+\u001b[0m \u001b[1;34m\"{}\"\u001b[0m\u001b[1;33m.\u001b[0m\u001b[0mformat\u001b[0m\u001b[1;33m(\u001b[0m\u001b[0mYOLO_major_version\u001b[0m\u001b[1;33m)\u001b[0m\u001b[1;33m)\u001b[0m\u001b[1;33m\u001b[0m\u001b[1;33m\u001b[0m\u001b[0m\n",
      "\u001b[1;31mNameError\u001b[0m: name 'os' is not defined"
     ]
    }
   ],
   "source": [
    "# automatic creation of helper folder yolo + version if not exists\n",
    "if not os.path.exists(\"/mydrive/yolo\" + \"{}\".format(YOLO_major_version)):\n",
    "    os.makedirs(\"/mydrive/yolo\" + \"{}\".format(YOLO_major_version))"
   ]
  },
  {
   "cell_type": "code",
   "execution_count": 7,
   "metadata": {
    "collapsed": false,
    "jupyter": {
     "outputs_hidden": false
    },
    "pycharm": {
     "name": "#%%\n"
    }
   },
   "outputs": [
    {
     "name": "stdout",
     "output_type": "stream",
     "text": [
      "Fri Nov 20 10:57:39 2020       \n",
      "+-----------------------------------------------------------------------------+\n",
      "| NVIDIA-SMI 452.57       Driver Version: 452.57       CUDA Version: 11.0     |\n",
      "|-------------------------------+----------------------+----------------------+\n",
      "| GPU  Name            TCC/WDDM | Bus-Id        Disp.A | Volatile Uncorr. ECC |\n",
      "| Fan  Temp  Perf  Pwr:Usage/Cap|         Memory-Usage | GPU-Util  Compute M. |\n",
      "|                               |                      |               MIG M. |\n",
      "|===============================+======================+======================|\n",
      "|   0  Quadro P1000       WDDM  | 00000000:01:00.0  On |                  N/A |\n",
      "| N/A   62C    P8    N/A /  N/A |   2042MiB /  4096MiB |     16%      Default |\n",
      "|                               |                      |                  N/A |\n",
      "+-------------------------------+----------------------+----------------------+\n",
      "                                                                               \n",
      "+-----------------------------------------------------------------------------+\n",
      "| Processes:                                                                  |\n",
      "|  GPU   GI   CI        PID   Type   Process name                  GPU Memory |\n",
      "|        ID   ID                                                   Usage      |\n",
      "|=============================================================================|\n",
      "|    0   N/A  N/A      1280    C+G   Insufficient Permissions        N/A      |\n",
      "|    0   N/A  N/A      2124    C+G   ...arp.BrowserSubprocess.exe    N/A      |\n",
      "|    0   N/A  N/A      8376    C+G   Insufficient Permissions        N/A      |\n",
      "|    0   N/A  N/A      8992    C+G   C:\\Windows\\explorer.exe         N/A      |\n",
      "|    0   N/A  N/A      9776    C+G   ...me\\Application\\chrome.exe    N/A      |\n",
      "|    0   N/A  N/A      9820    C+G   ...artMenuExperienceHost.exe    N/A      |\n",
      "|    0   N/A  N/A     10412    C+G   ...y\\ShellExperienceHost.exe    N/A      |\n",
      "|    0   N/A  N/A     11544    C+G   ...w5n1h2txyewy\\SearchUI.exe    N/A      |\n",
      "|    0   N/A  N/A     12792    C+G   ...obeNotificationClient.exe    N/A      |\n",
      "|    0   N/A  N/A     12860    C+G   ...bbwe\\Microsoft.Photos.exe    N/A      |\n",
      "|    0   N/A  N/A     13140    C+G   ...ekyb3d8bbwe\\YourPhone.exe    N/A      |\n",
      "|    0   N/A  N/A     14908    C+G   ...es.TextInput.InputApp.exe    N/A      |\n",
      "|    0   N/A  N/A     14960    C+G   ...zilla Firefox\\firefox.exe    N/A      |\n",
      "|    0   N/A  N/A     16900    C+G   ...urrent\\LogiOptionsMgr.exe    N/A      |\n",
      "|    0   N/A  N/A     16928    C+G   ...e\\Current\\LogiOverlay.exe    N/A      |\n",
      "|    0   N/A  N/A     17096    C+G   ...zilla Firefox\\firefox.exe    N/A      |\n",
      "|    0   N/A  N/A     18228    C+G   ...zilla Firefox\\firefox.exe    N/A      |\n",
      "|    0   N/A  N/A     19632    C+G   ...eepL\\app-1.16.1\\DeepL.exe    N/A      |\n",
      "|    0   N/A  N/A     19884    C+G   ...lPanel\\SystemSettings.exe    N/A      |\n",
      "|    0   N/A  N/A     20440    C+G   ...batNotificationClient.exe    N/A      |\n",
      "|    0   N/A  N/A     20584    C+G   ...ONEXANT\\Flow\\FlowTray.exe    N/A      |\n",
      "|    0   N/A  N/A     20772    C+G   ...3\\jbr\\bin\\jcef_helper.exe    N/A      |\n",
      "|    0   N/A  N/A     21316    C+G   ...wekyb3d8bbwe\\Video.UI.exe    N/A      |\n",
      "|    0   N/A  N/A     22396    C+G   ...kyb3d8bbwe\\Calculator.exe    N/A      |\n",
      "|    0   N/A  N/A     24524    C+G   ...zilla Firefox\\firefox.exe    N/A      |\n",
      "+-----------------------------------------------------------------------------+\n"
     ]
    }
   ],
   "source": [
    "# Check if NVIDIA GPU is enabled and which you got\n",
    "!nvidia-smi\n"
   ]
  },
  {
   "cell_type": "code",
   "execution_count": 8,
   "metadata": {
    "collapsed": false,
    "jupyter": {
     "outputs_hidden": false
    },
    "pycharm": {
     "name": "#%%\n"
    }
   },
   "outputs": [
    {
     "name": "stderr",
     "output_type": "stream",
     "text": [
      "Das System kann den angegebenen Pfad nicht finden.\n"
     ]
    }
   ],
   "source": [
    "# verify CUDA\n",
    "!/usr/local/cuda/bin/nvcc --version\n"
   ]
  },
  {
   "cell_type": "code",
   "execution_count": 9,
   "metadata": {
    "collapsed": false,
    "jupyter": {
     "outputs_hidden": false
    },
    "pycharm": {
     "name": "#%%\n"
    }
   },
   "outputs": [
    {
     "name": "stderr",
     "output_type": "stream",
     "text": [
      "Cloning into 'darknet'...\n",
      "error: unable to create file .github/ISSUE_TEMPLATE/training-issue---no-detections---nan-avg-loss---low-accuracy.md: Filename too long\n",
      "Updating files:  67% (1363/2025)\n",
      "Updating files:  68% (1377/2025)\n",
      "Updating files:  69% (1398/2025)\n",
      "Updating files:  70% (1418/2025)\n",
      "Updating files:  71% (1438/2025)\n",
      "Updating files:  72% (1458/2025)\n",
      "Updating files:  73% (1479/2025)\n",
      "Updating files:  74% (1499/2025)\n",
      "Updating files:  75% (1519/2025)\n",
      "Updating files:  76% (1539/2025)\n",
      "Updating files:  77% (1560/2025)\n",
      "Updating files:  78% (1580/2025)\n",
      "Updating files:  79% (1600/2025)\n",
      "Updating files:  80% (1620/2025)\n",
      "Updating files:  81% (1641/2025)\n",
      "Updating files:  82% (1661/2025)\n",
      "Updating files:  83% (1681/2025)\n",
      "Updating files:  84% (1701/2025)\n",
      "Updating files:  85% (1722/2025)\n",
      "Updating files:  86% (1742/2025)\n",
      "Updating files:  87% (1762/2025)\n",
      "Updating files:  88% (1782/2025)\n",
      "Updating files:  89% (1803/2025)\n",
      "Updating files:  90% (1823/2025)\n",
      "Updating files:  91% (1843/2025)\n",
      "Updating files:  92% (1863/2025)\n",
      "Updating files:  93% (1884/2025)\n",
      "Updating files:  94% (1904/2025)\n",
      "Updating files:  95% (1924/2025)\n",
      "Updating files:  96% (1944/2025)\n",
      "Updating files:  97% (1965/2025)\n",
      "Updating files:  98% (1985/2025)\n",
      "Updating files:  99% (2005/2025)\n",
      "Updating files: 100% (2025/2025)\n",
      "Updating files: 100% (2025/2025), done.\n",
      "fatal: unable to checkout working tree\n",
      "warning: Clone succeeded, but checkout failed.\n",
      "You can inspect what was checked out with 'git status'\n",
      "and retry with 'git restore --source=HEAD :/'\n",
      "\n"
     ]
    }
   ],
   "source": [
    "!git clone https://github.com/AlexeyAB/darknet\n",
    "\n"
   ]
  },
  {
   "cell_type": "code",
   "execution_count": 11,
   "metadata": {
    "collapsed": false,
    "jupyter": {
     "outputs_hidden": false
    },
    "pycharm": {
     "name": "#%%\n"
    }
   },
   "outputs": [
    {
     "name": "stdout",
     "output_type": "stream",
     "text": [
      "[WinError 2] Das System kann die angegebene Datei nicht finden: 'darknet'\n",
      "C:\\Users\\chari\\Google Drive\\00_Masterthesis\\Masterarbeit\\000_CODE\\Git\\01_YOLOv4_VDA_4994_DATASET_GENERATOR\\00_Dataset_Generator_incl_YOLO_labeling\\00_DATAGEN_Python_scripts\\darknet\n",
      "1\n",
      "2\n",
      "3\n"
     ]
    },
    {
     "name": "stderr",
     "output_type": "stream",
     "text": [
      "Der Befehl \"sed\" ist entweder falsch geschrieben oder\n",
      "konnte nicht gefunden werden.\n",
      "Der Befehl \"sed\" ist entweder falsch geschrieben oder\n",
      "konnte nicht gefunden werden.\n",
      "Der Befehl \"sed\" ist entweder falsch geschrieben oder\n",
      "konnte nicht gefunden werden.\n",
      "Der Befehl \"sed\" ist entweder falsch geschrieben oder\n",
      "konnte nicht gefunden werden.\n"
     ]
    }
   ],
   "source": [
    "\n",
    "# change makefile to have GPU and OPENCV enabled\n",
    "%cd darknet\n",
    "!sed -i 's/OPENCV=0/OPENCV=1/' Makefile\n",
    "print(\"1\")\n",
    "!sed -i 's/GPU=0/GPU=1/' Makefile\n",
    "print(\"2\")\n",
    "!sed -i 's/CUDNN=0/CUDNN=1/' Makefile\n",
    "print(\"3\")\n",
    "!sed -i 's/CUDNN_HALF=0/CUDNN_HALF=1/' Makefile\n",
    "!make\n",
    "## make Darknet"
   ]
  },
  {
   "cell_type": "code",
   "execution_count": 12,
   "metadata": {
    "collapsed": false,
    "jupyter": {
     "outputs_hidden": false
    },
    "pycharm": {
     "name": "#%%\n"
    }
   },
   "outputs": [
    {
     "ename": "NameError",
     "evalue": "name 'os' is not defined",
     "output_type": "error",
     "traceback": [
      "\u001b[1;31m---------------------------------------------------------------------------\u001b[0m",
      "\u001b[1;31mNameError\u001b[0m                                 Traceback (most recent call last)",
      "\u001b[1;32m<ipython-input-12-accf0a329e2f>\u001b[0m in \u001b[0;36m<module>\u001b[1;34m\u001b[0m\n\u001b[0;32m      1\u001b[0m \u001b[1;31m# unzip the zip file and its contents should now be in /darknet/data/obj\u001b[0m\u001b[1;33m\u001b[0m\u001b[1;33m\u001b[0m\u001b[1;33m\u001b[0m\u001b[0m\n\u001b[0;32m      2\u001b[0m \u001b[1;33m\u001b[0m\u001b[0m\n\u001b[1;32m----> 3\u001b[1;33m \u001b[0mos\u001b[0m\u001b[1;33m.\u001b[0m\u001b[0mchdir\u001b[0m\u001b[1;33m(\u001b[0m\u001b[1;34m\"/content\"\u001b[0m\u001b[1;33m)\u001b[0m\u001b[1;33m\u001b[0m\u001b[1;33m\u001b[0m\u001b[0m\n\u001b[0m\u001b[0;32m      4\u001b[0m \u001b[0mprint\u001b[0m\u001b[1;33m(\u001b[0m\u001b[0mos\u001b[0m\u001b[1;33m.\u001b[0m\u001b[0mgetcwd\u001b[0m\u001b[1;33m(\u001b[0m\u001b[1;33m)\u001b[0m\u001b[1;33m)\u001b[0m\u001b[1;33m\u001b[0m\u001b[1;33m\u001b[0m\u001b[0m\n\u001b[0;32m      5\u001b[0m \u001b[0mget_ipython\u001b[0m\u001b[1;33m(\u001b[0m\u001b[1;33m)\u001b[0m\u001b[1;33m.\u001b[0m\u001b[0msystem\u001b[0m\u001b[1;33m(\u001b[0m\u001b[1;34m'unzip $filename_dataset -d /content/darknet/data/'\u001b[0m\u001b[1;33m)\u001b[0m\u001b[1;33m\u001b[0m\u001b[1;33m\u001b[0m\u001b[0m\n",
      "\u001b[1;31mNameError\u001b[0m: name 'os' is not defined"
     ]
    }
   ],
   "source": [
    "# unzip the zip file and its contents should now be in /darknet/data/obj\n",
    "\n",
    "os.chdir(\"/content\")\n",
    "print(os.getcwd())\n",
    "!unzip $filename_dataset -d /content/darknet/data/\n",
    "!unzip $filename_testset -d /content/darknet/data/"
   ]
  },
  {
   "cell_type": "code",
   "execution_count": 13,
   "metadata": {
    "collapsed": false,
    "jupyter": {
     "outputs_hidden": false
    },
    "pycharm": {
     "name": "#%%\n"
    }
   },
   "outputs": [
    {
     "ename": "NameError",
     "evalue": "name 'os' is not defined",
     "output_type": "error",
     "traceback": [
      "\u001b[1;31m---------------------------------------------------------------------------\u001b[0m",
      "\u001b[1;31mNameError\u001b[0m                                 Traceback (most recent call last)",
      "\u001b[1;32m<ipython-input-13-71d0762d288c>\u001b[0m in \u001b[0;36m<module>\u001b[1;34m\u001b[0m\n\u001b[1;32m----> 1\u001b[1;33m \u001b[0mos\u001b[0m\u001b[1;33m.\u001b[0m\u001b[0mchdir\u001b[0m\u001b[1;33m(\u001b[0m\u001b[1;34m\"/content/darknet\"\u001b[0m\u001b[1;33m)\u001b[0m\u001b[1;33m\u001b[0m\u001b[1;33m\u001b[0m\u001b[0m\n\u001b[0m\u001b[0;32m      2\u001b[0m \u001b[1;33m\u001b[0m\u001b[0m\n\u001b[0;32m      3\u001b[0m \u001b[0mget_ipython\u001b[0m\u001b[1;33m(\u001b[0m\u001b[1;33m)\u001b[0m\u001b[1;33m.\u001b[0m\u001b[0msystem\u001b[0m\u001b[1;33m(\u001b[0m\u001b[1;34m'cp /mydrive/yolov4/generate_train.py ./'\u001b[0m\u001b[1;33m)\u001b[0m\u001b[1;33m\u001b[0m\u001b[1;33m\u001b[0m\u001b[0m\n\u001b[0;32m      4\u001b[0m \u001b[0mget_ipython\u001b[0m\u001b[1;33m(\u001b[0m\u001b[1;33m)\u001b[0m\u001b[1;33m.\u001b[0m\u001b[0msystem\u001b[0m\u001b[1;33m(\u001b[0m\u001b[1;34m'cp /mydrive/yolov4/generate_test.py ./'\u001b[0m\u001b[1;33m)\u001b[0m\u001b[1;33m\u001b[0m\u001b[1;33m\u001b[0m\u001b[0m\n\u001b[0;32m      5\u001b[0m \u001b[1;33m\u001b[0m\u001b[0m\n",
      "\u001b[1;31mNameError\u001b[0m: name 'os' is not defined"
     ]
    }
   ],
   "source": [
    "os.chdir(\"/content/darknet\")\n",
    "\n",
    "!cp /mydrive/yolov4/generate_train.py ./\n",
    "!cp /mydrive/yolov4/generate_test.py ./\n"
   ]
  },
  {
   "cell_type": "code",
   "execution_count": 14,
   "metadata": {
    "collapsed": false,
    "jupyter": {
     "outputs_hidden": false
    },
    "pycharm": {
     "name": "#%%\n"
    }
   },
   "outputs": [
    {
     "name": "stderr",
     "output_type": "stream",
     "text": [
      "python: can't open file 'generate_test.py': [Errno 2] No such file or directory\n"
     ]
    }
   ],
   "source": [
    "!python generate_train.py\n",
    "!python generate_test.py\n"
   ]
  },
  {
   "cell_type": "code",
   "execution_count": 15,
   "metadata": {
    "collapsed": false,
    "jupyter": {
     "outputs_hidden": false
    },
    "pycharm": {
     "name": "#%%\n"
    }
   },
   "outputs": [
    {
     "ename": "NameError",
     "evalue": "name 'os' is not defined",
     "output_type": "error",
     "traceback": [
      "\u001b[1;31m---------------------------------------------------------------------------\u001b[0m",
      "\u001b[1;31mNameError\u001b[0m                                 Traceback (most recent call last)",
      "\u001b[1;32m<ipython-input-15-e65d13481202>\u001b[0m in \u001b[0;36m<module>\u001b[1;34m\u001b[0m\n\u001b[0;32m      1\u001b[0m \u001b[1;31m## copy in google colab into darknet/cfg folder with new filename\u001b[0m\u001b[1;33m\u001b[0m\u001b[1;33m\u001b[0m\u001b[1;33m\u001b[0m\u001b[0m\n\u001b[1;32m----> 2\u001b[1;33m \u001b[0mos\u001b[0m\u001b[1;33m.\u001b[0m\u001b[0mchdir\u001b[0m\u001b[1;33m(\u001b[0m\u001b[1;34m\"/content/darknet\"\u001b[0m\u001b[1;33m)\u001b[0m\u001b[1;33m\u001b[0m\u001b[1;33m\u001b[0m\u001b[0m\n\u001b[0m\u001b[0;32m      3\u001b[0m \u001b[0mget_ipython\u001b[0m\u001b[1;33m(\u001b[0m\u001b[1;33m)\u001b[0m\u001b[1;33m.\u001b[0m\u001b[0msystem\u001b[0m\u001b[1;33m(\u001b[0m\u001b[1;34m'cp cfg/yolov4-custom.cfg cfg/$filename_cfg'\u001b[0m\u001b[1;33m)\u001b[0m\u001b[1;33m\u001b[0m\u001b[1;33m\u001b[0m\u001b[0m\n\u001b[0;32m      4\u001b[0m \u001b[1;33m\u001b[0m\u001b[0m\n\u001b[0;32m      5\u001b[0m \u001b[1;31m## in mydrive (google drive)\u001b[0m\u001b[1;33m\u001b[0m\u001b[1;33m\u001b[0m\u001b[1;33m\u001b[0m\u001b[0m\n",
      "\u001b[1;31mNameError\u001b[0m: name 'os' is not defined"
     ]
    }
   ],
   "source": [
    "## copy in google colab into darknet/cfg folder with new filename\n",
    "os.chdir(\"/content/darknet\")\n",
    "!cp cfg/yolov4-custom.cfg cfg/$filename_cfg\n",
    "\n",
    "## in mydrive (google drive)\n",
    "## download cfg to google drive and change its name\n",
    "#!cp cfg/yolov3.cfg /mydrive/yolov3/$filename     #yolov3_training.cfg\n",
    "\n",
    "## work on cfg file\n",
    "\n",
    "##upload and close again\n",
    "# upload the custom .cfg back to cloud VM from Google Drive\n",
    "#!cp /mydrive/yolov3/yolov3_custom.cfg ./cfg\n",
    "\n",
    "# upload the custom .cfg back to cloud VM from local machine (uncomment to use)\n",
    "#%cd cfg\n",
    "#upload()\n",
    "#%cd ..\n",
    "\n",
    "\n",
    "#number_custom_training_classes = nmbr_cstm_trng_classes\n",
    "\n",
    "## subdivisions if is in detecton mode:\n",
    "##batch from 1 to 64 (or it stays same)\n",
    "!sed -i.bak \"s/batch=1/batch=64/\" \"cfg/$filename_cfg\"\n",
    "## subdivisons from 1 to 16\n",
    "!sed -i.bak \"s/subdivisions=1/subdivisions=16/\" \"cfg/$filename_cfg\"\n",
    "\n",
    "## batches\n",
    "!sed -i.bak \"s/batch=1/batch=64/\" \"cfg/$filename_cfg\"\n",
    "\n",
    "## subdivisons\n",
    "## 1 is for testing\n",
    "if train == 1:\n",
    "  !sed -i.bak \"s/subdivisions=8/subdivisions=16/\" \"cfg/$filename_cfg\"\n",
    "else:\n",
    "  !sed -i.bak \"s/subdivisions=8/subdivisions=1/\" \"cfg/$filename_cfg\"\n",
    "\n",
    "\n",
    "# change with and height dependend on dataset resolution basic is 416 to 416 (w x h)\n",
    "str_width  = \"width={}\".format(YOLO_minor_version)\n",
    "str_height = \"height={}\".format(YOLO_minor_version)\n",
    "\n",
    "!sed -i.bak \"s/width=608/$str_width/\" \"cfg/$filename_cfg\"\n",
    "!sed -i.bak \"s/height=608/$str_height/\" \"cfg/$filename_cfg\"\n",
    "\n",
    "\n",
    "\n",
    "## max batches\n",
    "max_batches = 2000 * number_of_custom_training_classes\n",
    "\n",
    "if max_batches <= 6000:\n",
    "  max_batches = 6000\n",
    "else:\n",
    "  max_batches = max_batches\n",
    "\n",
    "string_sed_command_max_batches = 'max_batches = '+ str(max_batches)\n",
    "#print(string_sed_command_max_batches)\n",
    "!sed -i.bak \"s/max_batches = 500500/$string_sed_command_max_batches/\" \"cfg/$filename_cfg\"\n",
    "\n",
    "## step size\n",
    "step_size_80_percent = int(0.8 * max_batches)\n",
    "step_size_90_percent = int(0.9 * max_batches)\n",
    "#print(step_size_80_percent, step_size_90_percent)\n",
    "string_step_size = \"steps={},{}\".format(step_size_80_percent, step_size_90_percent)\n",
    "#print(string_step_size)\n",
    "!sed -i.bak \"s/steps=400000,450000/$string_step_size/\" \"cfg/$filename_cfg\"\n",
    "\n",
    "\n",
    "##classes\n",
    "# all classes at once\n",
    "!sed -i.bak \"s/classes=80/classes=$number_of_custom_training_classes/\" \"cfg/$filename_cfg\"\n",
    "\n",
    "# classes by specific line\n",
    "#!sed -i \"610 s@classes=80@classes=$number_custom_training_classes@\" \"$filename\"\n",
    "#!sed -i \"696 s@classes=80@classes=$number_custom_training_classes@\" \"$filename\"\n",
    "#!sed -i \"783 s@classes=80@classes=$number_custom_training_classes@\" \"$filename\"\n",
    "\n",
    "\n",
    "## Filters\n",
    "number_filters = (number_of_custom_training_classes + 5) * 3\n",
    "#print(number_filters)\n",
    "# all filters at once\n",
    "!sed -i.bak \"s/filters=255/filters=$number_filters/\" \"cfg/$filename_cfg\"\n",
    "\n",
    "\n",
    "#!sed -i '603 s@filters=255@filters=18@' cfg/yolov3_training.cfg\n",
    "#!sed -i '689 s@filters=255@filters=18@' cfg/yolov3_training.cfg\n",
    "#!sed -i '776 s@filters=255@filters=18@' cfg/yolov3_training.cfg\n",
    "\n",
    "\n",
    "\n",
    "print(os.getcwd())"
   ]
  },
  {
   "cell_type": "code",
   "execution_count": 17,
   "metadata": {
    "collapsed": false,
    "jupyter": {
     "outputs_hidden": false
    },
    "pycharm": {
     "name": "#%%\n"
    }
   },
   "outputs": [
    {
     "ename": "NameError",
     "evalue": "name 'os' is not defined",
     "output_type": "error",
     "traceback": [
      "\u001b[1;31m---------------------------------------------------------------------------\u001b[0m",
      "\u001b[1;31mNameError\u001b[0m                                 Traceback (most recent call last)",
      "\u001b[1;32m<ipython-input-17-68470a79bc40>\u001b[0m in \u001b[0;36m<module>\u001b[1;34m\u001b[0m\n\u001b[0;32m      1\u001b[0m \u001b[1;31m# obj.names = copy classes.txt (entries same as in classes.txt of labelling dataset)\u001b[0m\u001b[1;33m\u001b[0m\u001b[1;33m\u001b[0m\u001b[1;33m\u001b[0m\u001b[0m\n\u001b[1;32m----> 2\u001b[1;33m \u001b[0mprint\u001b[0m\u001b[1;33m(\u001b[0m\u001b[0mos\u001b[0m\u001b[1;33m.\u001b[0m\u001b[0mgetcwd\u001b[0m\u001b[1;33m(\u001b[0m\u001b[1;33m)\u001b[0m\u001b[1;33m)\u001b[0m\u001b[1;33m\u001b[0m\u001b[1;33m\u001b[0m\u001b[0m\n\u001b[0m\u001b[0;32m      3\u001b[0m \u001b[0mos\u001b[0m\u001b[1;33m.\u001b[0m\u001b[0mchdir\u001b[0m\u001b[1;33m(\u001b[0m\u001b[1;34m\"/content/darknet\"\u001b[0m\u001b[1;33m)\u001b[0m\u001b[1;33m\u001b[0m\u001b[1;33m\u001b[0m\u001b[0m\n\u001b[0;32m      4\u001b[0m \u001b[1;31m#Python\u001b[0m\u001b[1;33m\u001b[0m\u001b[1;33m\u001b[0m\u001b[1;33m\u001b[0m\u001b[0m\n\u001b[0;32m      5\u001b[0m \u001b[0mshutil\u001b[0m\u001b[1;33m.\u001b[0m\u001b[0mcopy2\u001b[0m\u001b[1;33m(\u001b[0m\u001b[1;34m'/mydrive/yolov4/classes.txt'\u001b[0m\u001b[1;33m,\u001b[0m \u001b[1;34m'/content/darknet/data/'\u001b[0m\u001b[1;33m)\u001b[0m\u001b[1;33m\u001b[0m\u001b[1;33m\u001b[0m\u001b[0m\n",
      "\u001b[1;31mNameError\u001b[0m: name 'os' is not defined"
     ]
    }
   ],
   "source": [
    "# obj.names = copy classes.txt (entries same as in classes.txt of labelling dataset)\n",
    "print(os.getcwd())\n",
    "os.chdir(\"/content/darknet\")\n",
    "#Python\n",
    "shutil.copy2('/mydrive/yolov4/classes.txt', '/content/darknet/data/')\n",
    "shutil.copy2('/mydrive/yolov4/obj.names', '/content/darknet/data/')\n",
    "\n",
    "# bash\n",
    "#!cp /content/darknet/data/obj/classes.txt /content/darknet/data/obj.names\n",
    "\n",
    "#with open(dataset_path + '\\obj.names', 'w') as f:\n",
    "    #f.write(class_name_0)\n",
    "    #f.write(\"\\n\")\n",
    "    #f.write(class_name_1)\n",
    "\n",
    "\n",
    "\n",
    "# obj.data = definition of custom training handling of files\n",
    "with open('data/obj.data', 'w') as f:\n",
    "    f.write(\"classes = {}\".format(number_of_custom_training_classes))\n",
    "    f.write(\"\\n\")\n",
    "    f.write(\"train = data/train.txt\")\n",
    "    f.write(\"\\n\")\n",
    "    f.write(\"valid = data/test.txt\")\n",
    "    f.write(\"\\n\")\n",
    "    f.write(\"names = data/obj.names\")\n",
    "    f.write(\"\\n\")\n",
    "    #f.write(\"backup = /mydrive/yolo{}/backup\".format(YOLO_version))\n",
    "    f.write(\"backup = /mydrive/yolo\" + \"{}/backup\".format(YOLO_major_version))\n",
    "\n",
    "\n",
    "# create backup folder if doesnt exists\n",
    "if not os.path.exists(\"/mydrive/yolo\" + \"{}/backup\".format(YOLO_major_version)):\n",
    "    os.makedirs(\"/mydrive/yolo\" + \"{}/backup\".format(YOLO_major_version))\n",
    "\n",
    "#\"\"\"upload obj.names and obj.datailes manually from drive or local  folder\"\"\"\n",
    "# upload the obj.names and obj.data files to cloud VM from Google Drive\n",
    "#!cp /mydrive/yolov3/obj.names ./data\n",
    "#!cp /mydrive/yolov3/obj.data  ./data\n",
    "\n",
    "# upload the obj.names and obj.data files to cloud VM from local machine (uncomment to use)\n",
    "#%cd data\n",
    "#upload()\n",
    "#%cd .."
   ]
  },
  {
   "cell_type": "code",
   "execution_count": 18,
   "metadata": {
    "collapsed": false,
    "jupyter": {
     "outputs_hidden": false
    },
    "pycharm": {
     "name": "#%%\n"
    }
   },
   "outputs": [
    {
     "ename": "NameError",
     "evalue": "name 'os' is not defined",
     "output_type": "error",
     "traceback": [
      "\u001b[1;31m---------------------------------------------------------------------------\u001b[0m",
      "\u001b[1;31mNameError\u001b[0m                                 Traceback (most recent call last)",
      "\u001b[1;32m<ipython-input-18-b22562e4515e>\u001b[0m in \u001b[0;36m<module>\u001b[1;34m\u001b[0m\n\u001b[0;32m      1\u001b[0m \u001b[1;31m# get yolov3 pretrained coco dataset weights\u001b[0m\u001b[1;33m\u001b[0m\u001b[1;33m\u001b[0m\u001b[1;33m\u001b[0m\u001b[0m\n\u001b[1;32m----> 2\u001b[1;33m \u001b[0mos\u001b[0m\u001b[1;33m.\u001b[0m\u001b[0mchdir\u001b[0m\u001b[1;33m(\u001b[0m\u001b[1;34m\"/content/darknet\"\u001b[0m\u001b[1;33m)\u001b[0m\u001b[1;33m\u001b[0m\u001b[1;33m\u001b[0m\u001b[0m\n\u001b[0m\u001b[0;32m      3\u001b[0m \u001b[1;31m#!wget https://pjreddie.com/media/files/yolov3.weights\u001b[0m\u001b[1;33m\u001b[0m\u001b[1;33m\u001b[0m\u001b[1;33m\u001b[0m\u001b[0m\n\u001b[0;32m      4\u001b[0m \u001b[1;31m# Download weights darknet model 53\u001b[0m\u001b[1;33m\u001b[0m\u001b[1;33m\u001b[0m\u001b[1;33m\u001b[0m\u001b[0m\n\u001b[0;32m      5\u001b[0m \u001b[1;31m#!wget https://pjreddie.com/media/files/darknet53.conv.74\u001b[0m\u001b[1;33m\u001b[0m\u001b[1;33m\u001b[0m\u001b[1;33m\u001b[0m\u001b[0m\n",
      "\u001b[1;31mNameError\u001b[0m: name 'os' is not defined"
     ]
    }
   ],
   "source": [
    "# get yolov3 pretrained coco dataset weights\n",
    "os.chdir(\"/content/darknet\")\n",
    "#!wget https://pjreddie.com/media/files/yolov3.weights\n",
    "# Download weights darknet model 53\n",
    "#!wget https://pjreddie.com/media/files/darknet53.conv.74\n",
    "\n",
    "!wget https://github.com/AlexeyAB/darknet/releases/download/darknet_yolo_v3_optimal/yolov4.conv.137\n"
   ]
  },
  {
   "cell_type": "code",
   "execution_count": 19,
   "metadata": {
    "collapsed": false,
    "jupyter": {
     "outputs_hidden": false
    },
    "pycharm": {
     "name": "#%%\n"
    }
   },
   "outputs": [
    {
     "ename": "NameError",
     "evalue": "name 'os' is not defined",
     "output_type": "error",
     "traceback": [
      "\u001b[1;31m---------------------------------------------------------------------------\u001b[0m",
      "\u001b[1;31mNameError\u001b[0m                                 Traceback (most recent call last)",
      "\u001b[1;32m<ipython-input-19-b2967463fa8f>\u001b[0m in \u001b[0;36m<module>\u001b[1;34m\u001b[0m\n\u001b[0;32m      1\u001b[0m \u001b[1;31m# upload the custom .cfg back to cloud VM from Google Drive\u001b[0m\u001b[1;33m\u001b[0m\u001b[1;33m\u001b[0m\u001b[1;33m\u001b[0m\u001b[0m\n\u001b[1;32m----> 2\u001b[1;33m \u001b[0mos\u001b[0m\u001b[1;33m.\u001b[0m\u001b[0mchdir\u001b[0m\u001b[1;33m(\u001b[0m\u001b[1;34m\"/content/darknet\"\u001b[0m\u001b[1;33m)\u001b[0m\u001b[1;33m\u001b[0m\u001b[1;33m\u001b[0m\u001b[0m\n\u001b[0m\u001b[0;32m      3\u001b[0m \u001b[0mget_ipython\u001b[0m\u001b[1;33m(\u001b[0m\u001b[1;33m)\u001b[0m\u001b[1;33m.\u001b[0m\u001b[0msystem\u001b[0m\u001b[1;33m(\u001b[0m\u001b[1;34m'cp /mydrive/yolov4/yolov4-obj.cfg ./cfg'\u001b[0m\u001b[1;33m)\u001b[0m\u001b[1;33m\u001b[0m\u001b[1;33m\u001b[0m\u001b[0m\n",
      "\u001b[1;31mNameError\u001b[0m: name 'os' is not defined"
     ]
    }
   ],
   "source": [
    "# upload the custom .cfg back to cloud VM from Google Drive\n",
    "os.chdir(\"/content/darknet\")\n",
    "!cp /mydrive/yolov4/yolov4-obj.cfg ./cfg"
   ]
  },
  {
   "cell_type": "code",
   "execution_count": 19,
   "metadata": {
    "collapsed": false,
    "jupyter": {
     "outputs_hidden": false
    },
    "pycharm": {
     "name": "#%%\n"
    }
   },
   "outputs": [],
   "source": [
    "# train your custom detector\n",
    "os.chdir(\"/content/darknet\")\n",
    "\n",
    "#!./darknet detector train data/obj.data cfg/$filename_cfg darknet53.conv.74 -dont_show\n",
    "\n",
    "#!./darknet detector train data/obj.data cfg/yolov4_training_custom_dataset.cfg yolov4.conv.137 -dont_show #-map\n",
    "#!./darknet detector train data/obj.data cfg/$filename_cfg yolov4.conv.137 -dont_show -map\n",
    "\n",
    "!./darknet detector train data/obj.data cfg/yolov4-cstm.cfg yolov4.conv.137 -dont_show -map\n",
    "#!./darknet detector train data/obj.data cfg/yolov4-obj.cfg yolov4.conv.137 -dont_show -map\n",
    "#!./darknet detector train data/obj.data $filename_cfg yolov3.weights -dont_show"
   ]
  },
  {
   "cell_type": "code",
   "execution_count": 20,
   "metadata": {
    "collapsed": false,
    "jupyter": {
     "outputs_hidden": false
    },
    "pycharm": {
     "name": "#%%\n"
    }
   },
   "outputs": [
    {
     "ename": "NameError",
     "evalue": "name 'os' is not defined",
     "output_type": "error",
     "traceback": [
      "\u001b[1;31m---------------------------------------------------------------------------\u001b[0m",
      "\u001b[1;31mNameError\u001b[0m                                 Traceback (most recent call last)",
      "\u001b[1;32m<ipython-input-20-920cf9044179>\u001b[0m in \u001b[0;36m<module>\u001b[1;34m\u001b[0m\n\u001b[0;32m      1\u001b[0m \u001b[1;31m# if yolo stops\u001b[0m\u001b[1;33m\u001b[0m\u001b[1;33m\u001b[0m\u001b[1;33m\u001b[0m\u001b[0m\n\u001b[1;32m----> 2\u001b[1;33m \u001b[0mos\u001b[0m\u001b[1;33m.\u001b[0m\u001b[0mchdir\u001b[0m\u001b[1;33m(\u001b[0m\u001b[1;34m\"/content/darknet\"\u001b[0m\u001b[1;33m)\u001b[0m\u001b[1;33m\u001b[0m\u001b[1;33m\u001b[0m\u001b[0m\n\u001b[0m\u001b[0;32m      3\u001b[0m \u001b[1;31m#!cp /mydrive/yolov4/yolov4-obj.cfg ./cfg\u001b[0m\u001b[1;33m\u001b[0m\u001b[1;33m\u001b[0m\u001b[1;33m\u001b[0m\u001b[0m\n\u001b[0;32m      4\u001b[0m \u001b[1;31m#!./darknet detector train data/obj.data cfg/$filename_cfg darknet53.conv.74 -dont_show\u001b[0m\u001b[1;33m\u001b[0m\u001b[1;33m\u001b[0m\u001b[1;33m\u001b[0m\u001b[0m\n\u001b[0;32m      5\u001b[0m \u001b[0mget_ipython\u001b[0m\u001b[1;33m(\u001b[0m\u001b[1;33m)\u001b[0m\u001b[1;33m.\u001b[0m\u001b[0msystem\u001b[0m\u001b[1;33m(\u001b[0m\u001b[1;34m'./darknet detector train data/obj.data cfg/yolov4-obj.cfg /mydrive/yolov4//backup/yolov4-obj_last.weights -dont_show'\u001b[0m\u001b[1;33m)\u001b[0m\u001b[1;33m\u001b[0m\u001b[1;33m\u001b[0m\u001b[0m\n",
      "\u001b[1;31mNameError\u001b[0m: name 'os' is not defined"
     ]
    }
   ],
   "source": [
    "# if yolo stops\n",
    "os.chdir(\"/content/darknet\")\n",
    "#!cp /mydrive/yolov4/yolov4-obj.cfg ./cfg\n",
    "#!./darknet detector train data/obj.data cfg/$filename_cfg darknet53.conv.74 -dont_show\n",
    "!./darknet detector train data/obj.data cfg/yolov4-obj.cfg /mydrive/yolov4//backup/yolov4-obj_last.weights -dont_show"
   ]
  },
  {
   "cell_type": "code",
   "execution_count": 20,
   "metadata": {
    "collapsed": false,
    "jupyter": {
     "outputs_hidden": false
    },
    "pycharm": {
     "name": "#%%\n"
    }
   },
   "outputs": [],
   "source": [
    "# need to set our custom cfg to test mode\n",
    "\n",
    "##batch from 64 to 1\n",
    "#!sed -i.bak \"s/batch=64/batch=1/\" \"cfg/yolov4-obj.cfg\"\n",
    "## subdivisons from 16 to 1\n",
    "#!sed -i.bak \"s/subdivisions=16/subdivisions=1/\" \"cfg/yolov4-obj.cfg\"\n",
    "\n",
    "##batch from 64 to 1\n",
    "!sed -i.bak \"s/batch=64/batch=1/\" \"cfg/$filename_cfg\"\n",
    "## subdivisons from 16 to 1\n",
    "!sed -i.bak \"s/subdivisions=16/subdivisions=1/\" \"cfg/$filename_cfg\""
   ]
  },
  {
   "cell_type": "code",
   "execution_count": null,
   "metadata": {
    "collapsed": false,
    "jupyter": {
     "outputs_hidden": false
    },
    "pycharm": {
     "name": "#%%\n"
    }
   },
   "outputs": [],
   "source": [
    "# run your custom detector with this command (upload an image to your google drive to test, thresh flag sets accuracy that detection must be in order to show it)\n",
    "\n",
    "!./darknet detector test data/obj.data cfg/yolov4-obj.cfg /mydrive/yolov4/backup/yolov4-obj_best.weights /content/gdrive/MyDrive/yolov4/test/test_VDA.jpg -thresh 0.1\n",
    "imShow('predictions.jpg')\n",
    "\n"
   ]
  }
 ],
 "metadata": {
  "kernelspec": {
   "display_name": "Python 3",
   "language": "python",
   "name": "python3"
  },
  "language_info": {
   "codemirror_mode": {
    "name": "ipython",
    "version": 3
   },
   "file_extension": ".py",
   "mimetype": "text/x-python",
   "name": "python",
   "nbconvert_exporter": "python",
   "pygments_lexer": "ipython3",
   "version": "3.7.7"
  }
 },
 "nbformat": 4,
 "nbformat_minor": 4
}
